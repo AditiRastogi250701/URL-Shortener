{
 "cells": [
  {
   "cell_type": "code",
   "execution_count": 1,
   "id": "3ad13150",
   "metadata": {},
   "outputs": [
    {
     "name": "stdout",
     "output_type": "stream",
     "text": [
      "Collecting pyshorteners\n",
      "  Downloading pyshorteners-1.0.1.tar.gz (10.0 kB)\n",
      "  Preparing metadata (setup.py): started\n",
      "  Preparing metadata (setup.py): finished with status 'done'\n",
      "Requirement already satisfied: requests in c:\\users\\aditi\\anaconda3\\lib\\site-packages (from pyshorteners) (2.26.0)\n",
      "Requirement already satisfied: urllib3<1.27,>=1.21.1 in c:\\users\\aditi\\anaconda3\\lib\\site-packages (from requests->pyshorteners) (1.26.7)\n",
      "Requirement already satisfied: charset-normalizer~=2.0.0 in c:\\users\\aditi\\anaconda3\\lib\\site-packages (from requests->pyshorteners) (2.0.4)\n",
      "Requirement already satisfied: idna<4,>=2.5 in c:\\users\\aditi\\anaconda3\\lib\\site-packages (from requests->pyshorteners) (3.2)\n",
      "Requirement already satisfied: certifi>=2017.4.17 in c:\\users\\aditi\\anaconda3\\lib\\site-packages (from requests->pyshorteners) (2021.10.8)\n",
      "Building wheels for collected packages: pyshorteners\n",
      "  Building wheel for pyshorteners (setup.py): started\n",
      "  Building wheel for pyshorteners (setup.py): finished with status 'done'\n",
      "  Created wheel for pyshorteners: filename=pyshorteners-1.0.1-py3-none-any.whl size=17499 sha256=4bd950ec6ce82057c8efc8edc52cdead3b5efac02e9119908f6ced58df947385\n",
      "  Stored in directory: c:\\users\\aditi\\appdata\\local\\pip\\cache\\wheels\\0f\\6e\\88\\f0c854fa281b13d4997e9068dd69201e51c4b051c52c30b48d\n",
      "Successfully built pyshorteners\n",
      "Installing collected packages: pyshorteners\n",
      "Successfully installed pyshorteners-1.0.1\n"
     ]
    }
   ],
   "source": [
    "!pip install pyshorteners"
   ]
  },
  {
   "cell_type": "code",
   "execution_count": 2,
   "id": "847f6236",
   "metadata": {},
   "outputs": [],
   "source": [
    "import pyshorteners"
   ]
  },
  {
   "cell_type": "code",
   "execution_count": 3,
   "id": "23c74ff5",
   "metadata": {},
   "outputs": [
    {
     "name": "stdout",
     "output_type": "stream",
     "text": [
      "https://github.com/AditiRastogi250701\n"
     ]
    }
   ],
   "source": [
    "link=input()"
   ]
  },
  {
   "cell_type": "code",
   "execution_count": 4,
   "id": "785ba469",
   "metadata": {},
   "outputs": [],
   "source": [
    "shortener=pyshorteners.Shortener()"
   ]
  },
  {
   "cell_type": "code",
   "execution_count": 5,
   "id": "71ae395b",
   "metadata": {},
   "outputs": [],
   "source": [
    "shortened_link=shortener.tinyurl.short(link)"
   ]
  },
  {
   "cell_type": "code",
   "execution_count": 6,
   "id": "4d2483e0",
   "metadata": {},
   "outputs": [
    {
     "name": "stdout",
     "output_type": "stream",
     "text": [
      "Shortened Link  https://tinyurl.com/y3v57z9h\n"
     ]
    }
   ],
   "source": [
    "print(\"Shortened Link \",shortened_link)"
   ]
  }
 ],
 "metadata": {
  "kernelspec": {
   "display_name": "Python 3 (ipykernel)",
   "language": "python",
   "name": "python3"
  },
  "language_info": {
   "codemirror_mode": {
    "name": "ipython",
    "version": 3
   },
   "file_extension": ".py",
   "mimetype": "text/x-python",
   "name": "python",
   "nbconvert_exporter": "python",
   "pygments_lexer": "ipython3",
   "version": "3.8.8"
  }
 },
 "nbformat": 4,
 "nbformat_minor": 5
}
